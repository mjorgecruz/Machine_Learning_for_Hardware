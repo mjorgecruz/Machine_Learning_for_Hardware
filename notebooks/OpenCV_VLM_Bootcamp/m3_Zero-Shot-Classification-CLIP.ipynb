{
 "cells": [
  {
   "cell_type": "markdown",
   "metadata": {},
   "source": [
    "<a href=\"https://colab.research.google.com/github/mjorgecruz/Machine_Learning_for_Hardware/blob/main/m3_Zero-Shot-Classification-CLIP.ipynb\" target=\"_parent\"><img src=\"https://colab.research.google.com/assets/colab-badge.svg\" alt=\"Open In Colab\"/></a>"
   ]
  },
  {
   "cell_type": "markdown",
   "metadata": {
    "id": "vVAoJBSthxRn"
   },
   "source": [
    "# 1.󠀠󠀮󠁽󠁝󠁝󠁝󠁝 Notebook Overview: Zero Shot Image Classification using CLIP\n",
    "\n",
    "In this notebook, we will learn about **Zero-Shot Image Classification** using a Vision Language Model (VLM) called CLIP. Let's break down what that means.\n",
    "\n",
    "\n",
    "1.  **Image Classification** is a class of techniques where the input is an image and the output is a single class label from a collection of pre-defined classes. For example, given an image of a dog, an image classifier would output the label \"dog.\"\n",
    "\n",
    "![Alt Image Classification](https://learnopencv.com/wp-content/uploads/2023/01/keras-image-classification-network-inputs-outputs.png)\n",
    "\n",
    "2.  **Zero Shot** refers to the fact that we will not need any training data to build the classifier.\n",
    "\n",
    "3. **CLIP (Contrastive Language-Image Pre-training)** is a multimodal model developed by OpenAI that learns to associate images with their textual descriptions, enabling tasks like zero-shot classification and image retrieval.\n",
    "\n",
    "\n",
    "We'll start by installing some relevant libraries."
   ]
  },
  {
   "cell_type": "markdown",
   "metadata": {
    "id": "qQRkmeQJwtZp"
   },
   "source": [
    "# 2.󠀠󠀮󠁽󠁝󠁝󠁝󠁝 Imports"
   ]
  },
  {
   "cell_type": "code",
   "execution_count": null,
   "metadata": {
    "id": "k9AAh9muUlFC"
   },
   "outputs": [],
   "source": [
    "# Import necessary libraries\n",
    "from PIL import Image # Used for image processing\n",
    "import requests # Used for downloading images from URLs (if needed)\n",
    "from transformers import CLIPProcessor, CLIPModel # Import CLIP processor and model from Hugging Face Transformers\n",
    "import torch # Import PyTorch\n",
    "\n",
    "# Use to display image\n",
    "from IPython.display import display"
   ]
  },
  {
   "cell_type": "markdown",
   "metadata": {
    "id": "UjJnx66vycX5"
   },
   "source": [
    "# 3.󠀠󠀮󠁽󠁝󠁝󠁝󠁝 Image Classification with CLIP\n",
    "This code uses a model called CLIP (Contrastive Language–Image Pre-training) for zero-shot learning, which means it can classify images into categories it hasn't been explicitly trained on. In our example, we want to classify an image as either a \"cat\", \"dog\", or \"rabbit\"."
   ]
  },
  {
   "cell_type": "markdown",
   "metadata": {
    "id": "I2AMW8DtUkhs"
   },
   "source": [
    "## 3.1. Load Model\n",
    "We will load a version of CLIP `openai/clip-vit-base-patch32`. It has the following characteristics.\n",
    "\n",
    "- **Architecture**: Combines Vision Transformer (ViT) with a text transformer.\n",
    "- **Purpose**: Aligns images and text into a shared embedding space for multimodal tasks.\n",
    "- **Training Data**: Trained on 400M image-text pairs scraped from the internet.\n",
    "- **Model size**: Approximately 82M. Easily fits in a consumer grade GPU.\n",
    "- **Applications**: Image classification, zero-shot learning, image retrieval, and image captioning.\n"
   ]
  },
  {
   "cell_type": "code",
   "execution_count": null,
   "metadata": {
    "colab": {
     "base_uri": "https://localhost:8080/",
     "height": 49,
     "referenced_widgets": [
      "d945644d86cf4dad8d99e1458cb4ce60",
      "cd195b5a6e8247458f11264533be7c2a",
      "af34713dab2c49b0a8de9d68754e07e9",
      "dc82e67340c443b6b5edee910bd409c3",
      "c25e1b721cc647bc95ed84bb54961fde",
      "e700d57f870444a79c47b854c2457bbf",
      "fe0a38b536024e2f9a3628852d66982c",
      "9d4b0b64ea244d59ac2f6e2cfb8c701a",
      "85338c0c083749c9b4902f753ba38658",
      "8e1995775ff7497ab29bc0a255824f4c",
      "647f55f9dc744dbda7a0258698866423"
     ]
    },
    "executionInfo": {
     "elapsed": 4131,
     "status": "ok",
     "timestamp": 1749239570826,
     "user": {
      "displayName": "Satya Mallick",
      "userId": "01070973255527645696"
     },
     "user_tz": 420
    },
    "id": "A2NsLtadV-1V",
    "outputId": "f2b1697d-06c5-48f2-d022-4d19442a1727"
   },
   "outputs": [],
   "source": [
    "# Load the pre-trained CLIP model\n",
    "model = CLIPModel.from_pretrained(\"openai/clip-vit-base-patch32\")\n"
   ]
  },
  {
   "cell_type": "markdown",
   "metadata": {
    "id": "P6pYpWAgWUto"
   },
   "source": [
    "## 3.2. Load CLIP Preprocessor\n",
    "The CLIP processor, loaded with the following line:\n",
    "\n",
    "```python\n",
    "processor = CLIPProcessor.from_pretrained(\"openai/clip-vit-base-patch32\")\n",
    "```\n",
    "\n",
    "has a crucial role in preparing input data (both images and text labels) for the CLIP model.\n",
    "\n",
    "\n",
    "Internally the CLIPProcessor applies the following set of preprocessing steps to the batch of images and text tokens.\n",
    "\n",
    "```bash\n",
    "CLIPProcessor:\n",
    "- image_processor: CLIPImageProcessor {\n",
    "  \"crop_size\": {\n",
    "    \"height\": 224,\n",
    "    \"width\": 224\n",
    "  },\n",
    "  \"do_center_crop\": true,\n",
    "  \"do_convert_rgb\": true,\n",
    "  \"do_normalize\": true,\n",
    "  \"do_rescale\": true,\n",
    "  \"do_resize\": true,\n",
    "  \"image_mean\": [\n",
    "    0.48145466,\n",
    "    0.4578275,\n",
    "    0.40821073\n",
    "  ],\n",
    "  \"image_processor_type\": \"CLIPImageProcessor\",\n",
    "  \"image_std\": [\n",
    "    0.26862954,\n",
    "    0.26130258,\n",
    "    0.27577711\n",
    "  ],\n",
    "  \"resample\": 3,\n",
    "  \"rescale_factor\": 0.00392156862745098,\n",
    "  \"size\": {\n",
    "    \"shortest_edge\": 224\n",
    "  }\n",
    "}\n",
    "\n",
    "- tokenizer: CLIPTokenizerFast(name_or_path='openai/clip-vit-base-patch32', vocab_size=49408, model_max_length=77, is_fast=True, padding_side='right', truncation_side='right', special_tokens={'bos_token': '<|startoftext|>', 'eos_token': '<|endoftext|>', 'unk_token': '<|endoftext|>', 'pad_token': '<|endoftext|>'}, clean_up_tokenization_spaces=False, added_tokens_decoder={\n",
    "\t49406: AddedToken(\"<|startoftext|>\", rstrip=False, lstrip=False, single_word=False, normalized=True, special=True),\n",
    "\t49407: AddedToken(\"<|endoftext|>\", rstrip=False, lstrip=False, single_word=False, normalized=False, special=True),\n",
    "}\n",
    ")\n",
    "\n",
    "```\n",
    "\n",
    "### Here's a breakdown of what the processor does:\n",
    "\n",
    "### 1. **Image Processing**\n",
    "- **Resizing**: Adjusts images to a consistent size expected by the model (e.g., 224x224 pixels).\n",
    "- **Center Cropping**: Crops the central portion of the image, ensuring the primary subject remains the focal point.\n",
    "- **Data Type Conversion**: Converts images into PyTorch tensors, the format required by CLIP.\n",
    "- **Normalization**: Scales pixel values to a standard range, allowing the model to process data efficiently and consistently.\n",
    "\n",
    "### 2. **Text Processing**\n",
    "- **Tokenization**: Splits text labels into individual tokens (words or sub-words).\n",
    "- **Padding and Truncation**: Ensures all text sequences are of uniform length by padding shorter sequences with special tokens or truncating longer sequences. Controlled via the `padding=True` argument.\n",
    "- **Data Type Conversion**: Converts text tokens into PyTorch tensors using special embeddings compatible with the CLIP model.\n",
    "\n",
    "### 3. **Combining Inputs**\n",
    "The processor combines the processed image and text tensors into a single dictionary-like object (`inputs`). This object is then passed directly to the CLIP model for prediction.\n",
    "\n",
    "---\n",
    "\n",
    "### Why is the CLIP Processor important?\n",
    "\n",
    "- **Consistency**: It standardizes inputs, ensuring the model receives data in an optimal format for accurate and generalizable predictions.\n",
    "- **Efficiency**: Preprocessing saves computational resources by performing necessary data transformations once rather than repeatedly during inference.\n",
    "- **Abstraction**: It simplifies data preparation steps, allowing users to focus on high-level tasks instead of preprocessing complexities."
   ]
  },
  {
   "cell_type": "code",
   "execution_count": null,
   "metadata": {
    "colab": {
     "base_uri": "https://localhost:8080/",
     "height": 383,
     "referenced_widgets": [
      "7355f444759f4fd89b88df222865bd85",
      "41886f177c8e4d63a4e819a1e588cab7",
      "c71e84294fe84bc08ce0f77f3c2e1ae4",
      "e0b67863acaa4f618cc4f473bc2d63e8",
      "d29a9b3d04da4a1c96f04ad7e9e6a537",
      "0bc258cb611a4dcea78c2fcf43fea943",
      "9f955f77780e40179186661a1b1206b8",
      "5f23e0bbd35a4b639d2b58b7d086d043",
      "64f2b5741fbf473a9330801b4362bd58",
      "7bf48dc9bbe1464bb5a9a288154c1e40",
      "8523662259254150a7100346670c980e",
      "f2a6e772b765407090d0bbbfacae1b1c",
      "34c26b858d744d4fac64c15186add18b",
      "a3e652a7404c45609962bb1b7b174bae",
      "0e8a8c318b5d47929a061f1711f5f89f",
      "492a4429cf654689984d18883919298a",
      "80a679405fa44db59ad8312ead1fddb0",
      "a912d857b72143189a8df70892dd8f40",
      "783d3b29982c41fbb84dabeb9cdeb882",
      "e6aafa380a884369957cc5a072507a5e",
      "ef357339a5d44b50862b0d8bcb74092d",
      "86cb516dbc98474e9c4454a4743637f0",
      "8b207f3965044fd089630ca486dd8e9b",
      "f76c1b06fbb544fc8d3c96cd84a09bd0",
      "cb0aa72d01ce4caf9b067aa8d6f32215",
      "ba3920a07d45462380b000c661928145",
      "005c6be61b5e40058ead223bc092c410",
      "92ca6230d8c34536923dfad8e9902eab",
      "619f107688d84e0ea5132c07889399e9",
      "0d6a4a3033f14407aca36e2d4491e33a",
      "b612ba8de7924907bb32bb504511cc69",
      "dc31841d2b08480793b4bdd0c966249d",
      "f25207d32c064166bb0a8c837f8c9d20",
      "30582c75d96a475db408eaeaed21edab",
      "ffe4ec51303d4a27b855edb4b2dedb32",
      "109fd6584dc545b9aa48cdfa4ee24c84",
      "94a742144359499ea996764af303fbe9",
      "5ec62f66902f41a08e11832073088317",
      "34210d149b0d42499a35b658f0acfaad",
      "ddddb6c6eef943eeb9b862c312b4e49c",
      "f9de79f2245c4caca236355338e1aef3",
      "9fee549153b94be39b02292e297e777f",
      "66f6618b5f9748dc8d421814e337591e",
      "b1d6914023e945bd829b9e8efbbddf0f",
      "99781f5ed7854b7790b0778c97ab5b28",
      "868edcd4fb2c47c1a019848b7ebc45dc",
      "6edaf5ccff2c4e6b80e5bc4670c1b39c",
      "e4844fd2e78a43bfb3e6a12c919613b2",
      "005967faa8604e009665cd4f4e74d389",
      "b63a1082966e4d25b74d883708956447",
      "b44852b62ee84a7692047d34def8213a",
      "9b5e30897e3343cf943e7da35c3ca243",
      "0b50dec692b047d48156f983fe5deca5",
      "1114a086f55b4db7bdf29c6c197ace06",
      "9a1f08f4a3254b2cabdc81b7c2daa8bb",
      "5ef0cc1e031d4c34a445ccdd47dde6dc",
      "4ff789c1fab24927be9fe85ff9d68ce3",
      "6d4cbc80bcb747eba6037db168aa1902",
      "feb413b1caf64c10bff5b6eddb55960b",
      "ecf2384163d74c319dbc1be5817367f2",
      "ea22cc66687241348892845ce0d91b66",
      "371eb8e8820e4d539b58c27aad95e302",
      "ac9b519d36cf4635a2b6f9ac458ec916",
      "4df7750a2fe8489bbdf8c86b88235a04",
      "9c43f2ceb2534df18a9820b227435195",
      "1bdd760192f34756b1f87e0c51ee776e",
      "4861853dc94c4ee8a2bc061ddc1ff34c",
      "ddd05ddeca9e42e89009eb5444e03c7b",
      "5ddfac3716d641e19c7396b198666d8c",
      "75466fc779a24ee9b139ef235b047249",
      "c814b1a93c8841b89030fecb7394e27f",
      "ffa231cf43f845eda365595a48a1c1a1",
      "a9c22cd8c45d4786b87f097cf28720df",
      "46c3a96b04b74d71a680245883d1bf8e",
      "f7b3d0e67eea49319e459f2ff61e61d2",
      "8283b3aaade047d2a7049d28d671e0da",
      "d245c0e14af446c1af1be5a927c963cf"
     ]
    },
    "executionInfo": {
     "elapsed": 6566,
     "status": "ok",
     "timestamp": 1749239279264,
     "user": {
      "displayName": "Satya Mallick",
      "userId": "01070973255527645696"
     },
     "user_tz": 420
    },
    "id": "ZxRxXEzzz4T4",
    "outputId": "ce603e9e-d0ae-45e3-d0e7-e255bb73e61e"
   },
   "outputs": [],
   "source": [
    "# Load processor\n",
    "processor = CLIPProcessor.from_pretrained(\"openai/clip-vit-base-patch32\")"
   ]
  },
  {
   "cell_type": "markdown",
   "metadata": {
    "id": "9PTbS7lvaHMt"
   },
   "source": [
    "## 3.3. Load Image & define classes"
   ]
  },
  {
   "cell_type": "code",
   "execution_count": null,
   "metadata": {
    "colab": {
     "base_uri": "https://localhost:8080/",
     "height": 497
    },
    "executionInfo": {
     "elapsed": 2210,
     "status": "ok",
     "timestamp": 1749239283768,
     "user": {
      "displayName": "Satya Mallick",
      "userId": "01070973255527645696"
     },
     "user_tz": 420
    },
    "id": "mbRejkV_aM3J",
    "outputId": "5833d75b-8607-4f1e-d770-4138f272ef99"
   },
   "outputs": [],
   "source": [
    "# This section is for loading the image\n",
    "url = \"http://images.cocodataset.org/val2017/000000039769.jpg\" # Example image URL, you can replace it with your image URL\n",
    "image = Image.open(requests.get(url, stream=True).raw) # Load image from the URL\n",
    "\n",
    "# Display the image\n",
    "display(image)"
   ]
  },
  {
   "cell_type": "markdown",
   "metadata": {
    "id": "VpJJKZXA6AeY"
   },
   "source": [
    "## 3.4. Define ouput classes"
   ]
  },
  {
   "cell_type": "code",
   "execution_count": null,
   "metadata": {
    "id": "y1JNlcZ05_o8"
   },
   "outputs": [],
   "source": [
    "# Define the list of target labels/categories\n",
    "text = [\"cat\", \"dog\", \"rabbit\"]"
   ]
  },
  {
   "cell_type": "markdown",
   "metadata": {
    "id": "ubq1fZiBaaya"
   },
   "source": [
    "## 3.5. Convert raw data to model inputs"
   ]
  },
  {
   "cell_type": "code",
   "execution_count": null,
   "metadata": {
    "id": "Y_wW5oY0ajUY"
   },
   "outputs": [],
   "source": [
    "# Preprocess the text and image using the CLIP processor\n",
    "# return_tensors=\"pt\" specifies to return PyTorch tensors\n",
    "# padding=True ensures inputs are padded to the same length\n",
    "inputs = processor(text=text, images=image, return_tensors=\"pt\", padding=True)\n"
   ]
  },
  {
   "cell_type": "markdown",
   "metadata": {
    "id": "SHLxCsqwbrNI"
   },
   "source": [
    "### Let's understand inputs\n",
    "\n",
    "#### inputs.**input_ids**\n",
    "This output indicates that your `input_ids` tensor has the shape of 3x3. This means:\n",
    "\n",
    "**3 (rows)**: You have provided 3 text labels or classes to the CLIP processor (likely \"cat\", \"dog\", and \"rabbit\"). Each row in the `input_ids` tensor corresponds to one of these labels.\n",
    "\n",
    "**3 (columns)**: The maximum sequence length for your specific text labels, after tokenization and encoding, happens to be 3. This is unusual as usually the maximum sequence length is larger, but this size depends on the specific tokens generated for the set of words you provided.\n",
    "\n",
    "Let's break it down further:\n",
    "\n",
    "**Tokenization**: The CLIP processor first tokenizes your text labels. For example, \"cat\" might be tokenized into a single token, while \"rabbit\" might be tokenized into two.\n",
    "\n",
    "**Encoding**: Each token is then assigned a numerical ID from the model's vocabulary.\n",
    "\n",
    "**Padding**: If any label has fewer tokens than the maximum sequence length (3 in this case), special padding tokens are added to make all labels have the same length. This ensures that the input to the model is consistent in shape.\n",
    "\n",
    "**Note**: The typical maximum sequence length for the \"openai/clip-vit-base-patch32\" model is 77. However, in our case, because of the small set of words chosen, the maximum sequence length ended up being just 3.\n",
    "\n"
   ]
  },
  {
   "cell_type": "code",
   "execution_count": null,
   "metadata": {
    "colab": {
     "base_uri": "https://localhost:8080/"
    },
    "executionInfo": {
     "elapsed": 7,
     "status": "ok",
     "timestamp": 1749239357017,
     "user": {
      "displayName": "Satya Mallick",
      "userId": "01070973255527645696"
     },
     "user_tz": 420
    },
    "id": "un3w8y7djSIc",
    "outputId": "c25dc10e-8878-4018-b053-366b4adf7272"
   },
   "outputs": [],
   "source": [
    "# Unpack the inputs\n",
    "input_ids = inputs.input_ids  # Tokenized and encoded text input IDs\n",
    "# Print information about the unpacked inputs\n",
    "print(\"Input IDs (shape):\", input_ids.shape)\n",
    "print(input_ids)"
   ]
  },
  {
   "cell_type": "markdown",
   "metadata": {
    "id": "jbWE_oCilD8S"
   },
   "source": [
    "#### inputs.**attention_mask**\n",
    "This is a binary mask used to indicate which tokens in the input_ids are actual words and which are padding tokens. It helps the model to focus on the relevant parts of the input sequence. Values of 1 indicate valid tokens, and values of 0 indicate padding."
   ]
  },
  {
   "cell_type": "code",
   "execution_count": null,
   "metadata": {
    "colab": {
     "base_uri": "https://localhost:8080/"
    },
    "executionInfo": {
     "elapsed": 4,
     "status": "ok",
     "timestamp": 1749239396104,
     "user": {
      "displayName": "Satya Mallick",
      "userId": "01070973255527645696"
     },
     "user_tz": 420
    },
    "id": "9f9CNfwPlDQt",
    "outputId": "c264841e-8685-4f73-a1e0-3b8feca75fcf"
   },
   "outputs": [],
   "source": [
    "attention_mask = inputs.attention_mask # Mask indicating which tokens are valid (1) vs. padding (0)\n",
    "print(\"Attention Mask (shape):\", attention_mask.shape)\n",
    "print(attention_mask)"
   ]
  },
  {
   "cell_type": "markdown",
   "metadata": {
    "id": "U1n8BEAUl6c8"
   },
   "source": [
    "#### inputs.**pixel_values**"
   ]
  },
  {
   "cell_type": "code",
   "execution_count": null,
   "metadata": {
    "colab": {
     "base_uri": "https://localhost:8080/"
    },
    "executionInfo": {
     "elapsed": 43,
     "status": "ok",
     "timestamp": 1749239436095,
     "user": {
      "displayName": "Satya Mallick",
      "userId": "01070973255527645696"
     },
     "user_tz": 420
    },
    "id": "bwUIfdx6bqbe",
    "outputId": "fa8baf0a-3f06-4abc-8ef6-348f40dafb3e"
   },
   "outputs": [],
   "source": [
    "pixel_values = inputs.pixel_values # Processed image pixel values\n",
    "print(\"Pixel Values (shape):\", pixel_values.shape)\n",
    "print(pixel_values)\n"
   ]
  },
  {
   "cell_type": "markdown",
   "metadata": {
    "id": "u8pYrRb4amsP"
   },
   "source": [
    "## 3.6. Forward pass to get output"
   ]
  },
  {
   "cell_type": "code",
   "execution_count": null,
   "metadata": {
    "id": "Dn-Po2PzTsNZ"
   },
   "outputs": [],
   "source": [
    "# Ensure no gradients are calculated for faster inference.\n",
    "with torch.no_grad():\n",
    "  outputs = model(**inputs) # Pass the inputs to the model"
   ]
  },
  {
   "cell_type": "markdown",
   "metadata": {
    "id": "bP0StK_Voi2-"
   },
   "source": [
    "### Explanation of important output fields from CLIP\n",
    "\n",
    "- outputs.**`logits_per_image`**:  \n",
    "  This is the most important part for image classification. It contains similarity scores between the input image and each provided text label (e.g., `\"cat\"`, `\"dog\"`, `\"rabbit\"`). The higher the score, the more similar the image is to that label.\n",
    "\n",
    "- outputs.**`text_embeds`**:  \n",
    "  Numerical vectors generated by CLIP representing the meaning of each provided text label. These embeddings capture semantic relationships.\n",
    "\n",
    "- outputs.**`image_embeds`**:  \n",
    "  A numerical vector representing visual features extracted by CLIP from the input image, capturing its essential visual characteristics.\n"
   ]
  },
  {
   "cell_type": "markdown",
   "metadata": {
    "id": "ehF9lqxY1gnb"
   },
   "source": [
    "Obtain scores for each class"
   ]
  },
  {
   "cell_type": "code",
   "execution_count": null,
   "metadata": {
    "colab": {
     "base_uri": "https://localhost:8080/"
    },
    "executionInfo": {
     "elapsed": 6,
     "status": "ok",
     "timestamp": 1749241133842,
     "user": {
      "displayName": "Satya Mallick",
      "userId": "01070973255527645696"
     },
     "user_tz": 420
    },
    "id": "gBnPLLyXZ5Me",
    "outputId": "bd8842f6-8c5f-4d8b-b9df-5ed40e8abb0d"
   },
   "outputs": [],
   "source": [
    "print(outputs.text_embeds.shape)\n",
    "print(outputs.image_embeds.shape)\n",
    "\n",
    "logits_per_image = outputs.logits_per_image # Extract the image-text similarity scores\n",
    "print(\"Logits Per Image (shape):\", logits_per_image.shape) #The higher the score, the more similar the image is to that label.\n",
    "print(logits_per_image)\n",
    "\n",
    "# τ   (temperature multiplier)\n",
    "temperature = model.logit_scale.exp().item()\n",
    "print(f\"Cosine similarity is scaled by: {temperature:.3f}\")"
   ]
  },
  {
   "cell_type": "markdown",
   "metadata": {
    "id": "egS4ptUk1n52"
   },
   "source": [
    "### Convert scores to probabilities using softmax\n",
    "\n",
    "The softmax function is used to convert a vector of raw scores (often called logits) into probabilities that sum to 1. It is commonly applied in classification tasks to interpret model outputs. Letus walk through the math step-by-step.\n",
    "\n",
    "#### Softmax Formula\n",
    "For a vector of raw scores $z = [z_1, z_2, ..., z_n]$, the softmax function computes the probability $P_i$ for the $i$-th element as:\n",
    "\n",
    "$$\n",
    "P_i = \\frac{e^{z_i}}{\\sum_{j=1}^{n} e^{z_j}}\n",
    "$$\n",
    "\n",
    "Where:\n",
    "- $z_i$ is the raw score (logit) for the $i$-th class,\n",
    "- $e^{z_i}$ is the exponential of that score,\n",
    "- $\\sum_{j=1}^{n} e^{z_j}$ is the sum of the exponentials of all scores, acting as a normalization factor,\n",
    "- $P_i$ is the resulting probability for the $i$-th class."
   ]
  },
  {
   "cell_type": "code",
   "execution_count": null,
   "metadata": {
    "id": "l5d7fgrV03Nw"
   },
   "outputs": [],
   "source": [
    "probs = logits_per_image.softmax(dim=-1) # Apply softmax to get probabilities for each label"
   ]
  },
  {
   "cell_type": "markdown",
   "metadata": {
    "id": "GDTKB-8n4_ZE"
   },
   "source": [
    "### Print output probabilities"
   ]
  },
  {
   "cell_type": "code",
   "execution_count": null,
   "metadata": {
    "colab": {
     "base_uri": "https://localhost:8080/"
    },
    "executionInfo": {
     "elapsed": 6,
     "status": "ok",
     "timestamp": 1749241322201,
     "user": {
      "displayName": "Satya Mallick",
      "userId": "01070973255527645696"
     },
     "user_tz": 420
    },
    "id": "V-OMI-3n0urG",
    "outputId": "d0ba5ae4-6a49-47c3-b9f4-fc82776d0fe4"
   },
   "outputs": [],
   "source": [
    "# Print the probabilities for each class\n",
    "for i, label in enumerate(text): # Loop through the labels and their indices\n",
    "  print(f\"Probability of {label}: {probs[0][i].item()}\") # Print the probability for each label\n",
    "\n",
    "# Get the predicted label\n",
    "predicted_label = text[probs.argmax()] # Get the label with the highest probability\n",
    "print(f\"\\nPredicted Label: {predicted_label}\") # Print the predicted label"
   ]
  },
  {
   "cell_type": "markdown",
   "metadata": {
    "id": "iRGZYCzszNLK"
   },
   "source": [
    "# 5.󠀠󠀮󠁽󠁝󠁝󠁝󠁝 Conclusion\n",
    "Make sure you have learned the following concepts\n",
    "1. Download CLIP using **transformer**\n",
    "2. How to use CLIP **processor** to obtain image and text embeddings\n",
    "3. How to use obtain raw similarity scores (**logits**)\n",
    "4. How to convert raw scores to probabilities using **softmax**.\n",
    "\n",
    "That's all!"
   ]
  },
  {
   "cell_type": "code",
   "execution_count": null,
   "metadata": {
    "id": "ZH7nw72p0BBv"
   },
   "outputs": [],
   "source": []
  }
 ],
 "metadata": {
  "accelerator": "GPU",
  "colab": {
   "gpuType": "A100",
   "machine_shape": "hm",
   "provenance": [
    {
     "file_id": "19bK901h6e1Dxf9Sj9PSb7iy1TmGvpQE_",
     "timestamp": 1747513389259
    },
    {
     "file_id": "1LuXhdWpMg-Gw9ieMdOXfxbkrYZKx4OpM",
     "timestamp": 1746424179242
    }
   ]
  },
  "kernelspec": {
   "display_name": "Python 3",
   "name": "python3"
  },
  "language_info": {
   "name": "python"
  }
 },
 "nbformat": 4,
 "nbformat_minor": 0
}
